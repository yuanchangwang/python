{
 "cells": [
  {
   "cell_type": "markdown",
   "metadata": {},
   "source": [
    "# git \n",
    "- 官网https://git-scm.com/\n",
    "# git基本使用\n",
    "- 初始化\n",
    "git init\n",
    "- 向暂存区添加内容\n",
    "git add .\n",
    "- 向仓库提交内容，一般注释信息是强制添加\n",
    " git commit -m \"day01\"\n",
    "- 提交\n",
    "git push -u origin master\n",
    "- 登录\n",
    "Username for 'https://github.com': \n",
    "Password for 'https://github.com': \n"
   ]
  }
 ],
 "metadata": {
  "kernelspec": {
   "display_name": "Python 3",
   "language": "python",
   "name": "python3"
  },
  "language_info": {
   "codemirror_mode": {
    "name": "ipython",
    "version": 3
   },
   "file_extension": ".py",
   "mimetype": "text/x-python",
   "name": "python",
   "nbconvert_exporter": "python",
   "pygments_lexer": "ipython3",
   "version": "3.6.3"
  }
 },
 "nbformat": 4,
 "nbformat_minor": 2
}
