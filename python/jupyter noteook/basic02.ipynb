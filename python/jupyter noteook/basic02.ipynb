{
 "cells": [
  {
   "cell_type": "markdown",
   "metadata": {},
   "source": [
    "什么是BIF？Python3提供了多少个BIF？"
   ]
  },
  {
   "cell_type": "markdown",
   "metadata": {},
   "source": [
    "\"TUing\" 和 \"tuling\" 是一样的吗？"
   ]
  },
  {
   "cell_type": "code",
   "execution_count": 5,
   "metadata": {},
   "outputs": [
    {
     "data": {
      "text/plain": [
       "False"
      ]
     },
     "execution_count": 5,
     "metadata": {},
     "output_type": "execute_result"
    }
   ],
   "source": [
    "# \"c\" == \"C\"\n",
    "\"李四\" == \"李4\""
   ]
  },
  {
   "cell_type": "markdown",
   "metadata": {},
   "source": [
    "\"=\" 和 \"==\" 的运用与区别\n",
    "- '=' 是用来赋值对的\n",
    "- '==' 是用来判断两个对象是否相等的"
   ]
  },
  {
   "cell_type": "code",
   "execution_count": 7,
   "metadata": {},
   "outputs": [
    {
     "name": "stdout",
     "output_type": "stream",
     "text": [
      "1\n"
     ]
    }
   ],
   "source": [
    "a = 1\n",
    "print(a)"
   ]
  },
  {
   "cell_type": "markdown",
   "metadata": {},
   "source": [
    "了解字符串拼接"
   ]
  },
  {
   "cell_type": "code",
   "execution_count": 9,
   "metadata": {},
   "outputs": [
    {
     "data": {
      "text/plain": [
       "'我喜欢刘亦菲小姐姐刘亦菲小姐姐也喜欢我'"
      ]
     },
     "execution_count": 9,
     "metadata": {},
     "output_type": "execute_result"
    }
   ],
   "source": [
    "\"我喜欢\" + \"刘亦菲小姐姐\" + \"刘亦菲小姐姐也喜欢我\""
   ]
  },
  {
   "cell_type": "markdown",
   "metadata": {},
   "source": [
    "编写程序，要求用户输入姓名并且打印“你好，姓名”"
   ]
  },
  {
   "cell_type": "code",
   "execution_count": 11,
   "metadata": {},
   "outputs": [
    {
     "name": "stdout",
     "output_type": "stream",
     "text": [
      "请输入你的姓名：yuan\n",
      "你好,yuan\n"
     ]
    }
   ],
   "source": [
    "name = input(\"请输入你的姓名：\")\n",
    "print(\"你好,\" + name)"
   ]
  },
  {
   "cell_type": "markdown",
   "metadata": {},
   "source": [
    "编写程序，要求用户输入1-100之间的整数并且判断，输入符合要求的打印”你好看“，否则打印”你丑八怪，天黑别把灯打开“"
   ]
  },
  {
   "cell_type": "code",
   "execution_count": 13,
   "metadata": {},
   "outputs": [
    {
     "name": "stdout",
     "output_type": "stream",
     "text": [
      "请输入一个零到一百的整数：jj\n",
      "你丑八怪，天黑别把灯打开\n"
     ]
    }
   ],
   "source": [
    "temp = input(\"请输入一个零到一百的整数：\")\n",
    "if temp.isdigit():\n",
    "    temp = int(temp)\n",
    "    if 1 <= temp <= 100:\n",
    "        print(\"你好看\")\n",
    "    else:\n",
    "        print(\"你丑八怪，天黑别把灯打开\")\n",
    "else:\n",
    "    print(\"你丑八怪，天黑别把灯打开\")"
   ]
  },
  {
   "cell_type": "code",
   "execution_count": 14,
   "metadata": {},
   "outputs": [
    {
     "name": "stdout",
     "output_type": "stream",
     "text": [
      "请输入10\n",
      "<class 'str'>\n"
     ]
    },
    {
     "data": {
      "text/plain": [
       "True"
      ]
     },
     "execution_count": 14,
     "metadata": {},
     "output_type": "execute_result"
    }
   ],
   "source": [
    "temp = input(\"请输入\")\n",
    "print(type(temp))\n",
    "temp.isdigit()"
   ]
  },
  {
   "cell_type": "code",
   "execution_count": null,
   "metadata": {
    "collapsed": true
   },
   "outputs": [],
   "source": []
  }
 ],
 "metadata": {
  "kernelspec": {
   "display_name": "Python 3",
   "language": "python",
   "name": "python3"
  },
  "language_info": {
   "codemirror_mode": {
    "name": "ipython",
    "version": 3
   },
   "file_extension": ".py",
   "mimetype": "text/x-python",
   "name": "python",
   "nbconvert_exporter": "python",
   "pygments_lexer": "ipython3",
   "version": "3.6.3"
  }
 },
 "nbformat": 4,
 "nbformat_minor": 2
}
